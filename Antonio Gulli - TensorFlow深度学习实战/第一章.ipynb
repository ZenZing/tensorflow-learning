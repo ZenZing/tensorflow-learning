{
 "cells": [
  {
   "cell_type": "code",
   "execution_count": 8,
   "id": "a04fe7ec",
   "metadata": {},
   "outputs": [
    {
     "name": "stdout",
     "output_type": "stream",
     "text": [
      "hello---\n"
     ]
    }
   ],
   "source": [
    "# V1 兼容：https://stackoverflow.com/questions/55142951/tensorflow-2-0-attributeerror-module-tensorflow-has-no-attribute-session\n",
    "\n",
    "import os\n",
    "import tensorflow.compat.v1 as tf\n",
    "\n",
    "os.environ['TF_CPP_MIN_LOG_LEVEL']='2'\n",
    "tf.disable_v2_behavior()\n",
    "\n",
    "\n",
    "message = tf.constant('hello---')\n",
    "\n",
    "with tf.Session() as sess:\n",
    "    print(sess.run(message).decode())"
   ]
  },
  {
   "cell_type": "code",
   "execution_count": 11,
   "id": "c97780cb",
   "metadata": {},
   "outputs": [
    {
     "name": "stdout",
     "output_type": "stream",
     "text": [
      "[3 3 8 7]\n"
     ]
    }
   ],
   "source": [
    "# 简单向量加减\n",
    "import os\n",
    "import tensorflow.compat.v1 as tf\n",
    "\n",
    "os.environ['TF_CPP_MIN_LOG_LEVEL']='2'\n",
    "tf.disable_v2_behavior()\n",
    "\n",
    "v_1 = tf.constant([1, 2, 3, 4])\n",
    "v_2 = tf.constant([2, 1, 5, 3])\n",
    "# v_add = tf.add(v_1, v_2)\n",
    "v_add = v_1 + v_2 # same thing\n",
    "\n",
    "with tf.Session() as sess:\n",
    "    print(sess.run(v_add))"
   ]
  },
  {
   "cell_type": "code",
   "execution_count": 12,
   "id": "8c40d686",
   "metadata": {},
   "outputs": [
    {
     "name": "stdout",
     "output_type": "stream",
     "text": [
      "[3 3 8 7]\n"
     ]
    }
   ],
   "source": [
    "# 非显式调用 session\n",
    "\n",
    "import os\n",
    "import tensorflow.compat.v1 as tf\n",
    "\n",
    "os.environ['TF_CPP_MIN_LOG_LEVEL']='2'\n",
    "tf.disable_v2_behavior()\n",
    "\n",
    "sess = tf.InteractiveSession()\n",
    "\n",
    "v_1 = tf.constant([1, 2, 3, 4])\n",
    "v_2 = tf.constant([2, 1, 5, 3])\n",
    "# v_add = tf.add(v_1, v_2)\n",
    "v_add = v_1 + v_2 # same thing\n",
    "\n",
    "\n",
    "print(v_add.eval())\n",
    "\n",
    "sess.close()"
   ]
  },
  {
   "cell_type": "code",
   "execution_count": null,
   "id": "f361a244",
   "metadata": {},
   "outputs": [],
   "source": []
  }
 ],
 "metadata": {
  "kernelspec": {
   "display_name": "Python 3.8.15 ('tensorflow')",
   "language": "python",
   "name": "python3"
  },
  "language_info": {
   "codemirror_mode": {
    "name": "ipython",
    "version": 3
   },
   "file_extension": ".py",
   "mimetype": "text/x-python",
   "name": "python",
   "nbconvert_exporter": "python",
   "pygments_lexer": "ipython3",
   "version": "3.8.15"
  },
  "vscode": {
   "interpreter": {
    "hash": "456db539f7a0622572472e59745675c6554a2623e6d8148c83763bfd2efef613"
   }
  }
 },
 "nbformat": 4,
 "nbformat_minor": 5
}
